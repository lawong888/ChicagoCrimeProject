{
  "cells":[
    {
      "cell_type":"markdown",
      "source":[
        "Chicago Crime Plot Comparison"
      ],
      "attachments":{
        
      },
      "metadata":{
        
      }
    },
    {
      "cell_type":"code",
      "source":[
        "!pip install bokeh"
      ],
      "execution_count":34,
      "outputs":[
        {
          "name":"stdout",
          "text":[
            "Requirement already satisfied: bokeh in \/opt\/python\/envs\/default\/lib\/python3.8\/site-packages (2.3.0)\r\n",
            "Requirement already satisfied: PyYAML>=3.10 in \/opt\/python\/envs\/default\/lib\/python3.8\/site-packages (from bokeh) (5.4.1)\r\n",
            "Requirement already satisfied: python-dateutil>=2.1 in \/opt\/python\/envs\/default\/lib\/python3.8\/site-packages (from bokeh) (2.8.1)\r\n",
            "Requirement already satisfied: Jinja2>=2.7 in \/opt\/python\/envs\/default\/lib\/python3.8\/site-packages (from bokeh) (3.0.1)\r\n",
            "Requirement already satisfied: numpy>=1.11.3 in \/opt\/python\/envs\/default\/lib\/python3.8\/site-packages (from bokeh) (1.19.5)\r\n",
            "Requirement already satisfied: pillow>=7.1.0 in \/opt\/python\/envs\/default\/lib\/python3.8\/site-packages (from bokeh) (8.2.0)\r\n",
            "Requirement already satisfied: packaging>=16.8 in \/opt\/python\/envs\/default\/lib\/python3.8\/site-packages (from bokeh) (20.9)\r\n",
            "Requirement already satisfied: tornado>=5.1 in \/opt\/python\/envs\/default\/lib\/python3.8\/site-packages (from bokeh) (6.1)\r\n",
            "Requirement already satisfied: typing_extensions>=3.7.4 in \/opt\/python\/envs\/default\/lib\/python3.8\/site-packages (from bokeh) (3.7.4.3)\r\n",
            "Requirement already satisfied: MarkupSafe>=2.0 in \/opt\/python\/envs\/default\/lib\/python3.8\/site-packages (from Jinja2>=2.7->bokeh) (2.0.1)\r\n",
            "Requirement already satisfied: pyparsing>=2.0.2 in \/opt\/python\/envs\/default\/lib\/python3.8\/site-packages (from packaging>=16.8->bokeh) (2.4.7)\r\n",
            "Requirement already satisfied: six>=1.5 in \/opt\/python\/envs\/default\/lib\/python3.8\/site-packages (from python-dateutil>=2.1->bokeh) (1.15.0)\r\n",
            "\u001b[33mWARNING: You are using pip version 21.1; however, version 21.1.2 is available.\r\n",
            "You should consider upgrading via the '\/opt\/python\/envs\/default\/bin\/python -m pip install --upgrade pip' command.\u001b[0m\r\n"
          ],
          "output_type":"stream"
        }
      ],
      "metadata":{
        
      }
    },
    {
      "cell_type":"code",
      "source":[
        "## Main Chicago Crime Plot\n",
        "\n",
        "import pandas as pd\n",
        "# Bokeh libraries\n",
        "from bokeh.io import output_file, output_notebook\n",
        "from bokeh.plotting import figure, show\n",
        "from bokeh.models import ColumnDataSource, CDSView, HoverTool, Range1d, LinearAxis\n",
        "from bokeh.models.tickers import YearsTicker\n",
        "\n",
        "# Read in the Crime Data csv file\n",
        "#df = pd.read_csv('\/data\/workspace_files\/DailyViolentCrimesv1.csv',parse_dates=['CrimeDate'],dayfirst=True)\n",
        "df = pd.read_csv('https:\/\/gitlab.com\/ds-team-1\/chicagocrimeforecaster\/-\/raw\/main\/data\/DailyViolentCrimesv1.csv',parse_dates=['CrimeDate'],dayfirst=True)\n",
        "df.sort_values('CrimeDate', inplace=True)\n",
        "\n",
        "# Output to static HTML file\n",
        "output_file('CHGCrime.html',\n",
        "            title='Chicago Crime Chart')\n",
        "output_notebook()\n",
        "\n",
        "# Create a ColumnDataSource\n",
        "crime_cds = ColumnDataSource(df)\n",
        "\n",
        "# Create view for each component (two graphs)\n",
        "crimecount_view = CDSView(source=crime_cds)\n",
        "feels_view = CDSView(source=crime_cds)\n",
        "# add headroom for graph\n",
        "y_overlimit = 0.08 # show y axis below and above y min and max value\n",
        "#p = figure()\n",
        "\n",
        "# Create and configure the figure\n",
        "# Make the grid background, size to 16:9 format to fit presentation\n",
        "crime_fig = figure(x_axis_type='datetime',\n",
        "                   plot_height=768, plot_width=1377,\n",
        "                   title='Violent Crime Influence Comparison',\n",
        "                   x_axis_label='Date', y_axis_label='Violent Crime Rate',\n",
        "                   toolbar_location=\"above\",\n",
        "                   y_range = (df['Crime_Count'].min() * (1 - y_overlimit),\n",
        "                              220))\n",
        "#                              df['Crime_Count'].max() * (1 + y_overlimit)))\n",
        "\n",
        "#crime_fig.x_range.min_interval = 2010\n",
        "#crime_fig.x_range.max_interval = 2020\n",
        "crime_fig.xaxis.ticker.desired_num_ticks = 10\n",
        "crime_fig.grid.grid_line_color = 'deepskyblue'\n",
        "\n",
        "\n",
        "# Setting the second y axis range name and range\n",
        "crime_fig.extra_y_ranges = {'feels_like': Range1d(df['feels_like'].min() * (1 - y_overlimit), \n",
        "                                           df['feels_like'].max() * (1 + y_overlimit)),\n",
        "                            'humidity': Range1d(df['humidity'].min() * (1 - y_overlimit), \n",
        "                                           df['humidity'].max() * (1 + y_overlimit)),\n",
        "                            'precipitation': Range1d(df['precipitation'].min() * (1 - y_overlimit), \n",
        "                                           df['precipitation'].max() * (1 + y_overlimit)),\n",
        "                            'unemployment': Range1d(df['unemployment'].min() * (1 - y_overlimit), \n",
        "                                           df['unemployment'].max() * (1 + y_overlimit)),\n",
        "                            'Adj_Close': Range1d(df['Adj_Close'].min() * (1 - y_overlimit), \n",
        "                                           df['Adj_Close'].max() * (1 + y_overlimit)) }\n",
        "\n",
        "# Adding the second axis to the plot.  \n",
        "crime_fig.add_layout(LinearAxis(y_range_name='feels_like', axis_label='\"Feels Like\" Temperature'),'right')\n",
        "\n",
        "# Format the tooltip\n",
        "tooltips = [\n",
        "            ('Crime_Count', '@Crime_Count'),\n",
        "#            (comparison_field, '@'+comparison_field),\n",
        "            ]\n",
        "\n",
        "#crime_fig.add_tools(HoverTool(tooltips=tooltips))\n",
        "\n",
        "### main plot of Crime_Count as RED\n",
        "crime_fig.line(x='CrimeDate', y='Crime_Count',\n",
        "              source=crime_cds, view=crimecount_view,\n",
        "              color='#CE1141', legend_label='Crime_Count')\n",
        "\n",
        "### second plot GREEN of feels_like\n",
        "crime_fig.x('CrimeDate', 'feels_like',\n",
        "              source=crime_cds, view=crimecount_view,\n",
        "              color='#39fc03', legend_label='feels_like',\n",
        "              y_range_name='feels_like',)\n",
        "\n",
        "### Third plot Orange of humidity\n",
        "crime_fig.y('CrimeDate', 'humidity',\n",
        "              source=crime_cds, view=crimecount_view,\n",
        "              color='#fc8403', legend_label='humidity',\n",
        "              y_range_name='humidity',)\n",
        "\n",
        "### Fourth plot Yellow of precipitation\n",
        "crime_fig.line('CrimeDate', 'precipitation',\n",
        "              source=crime_cds, view=crimecount_view,\n",
        "              color='#fce703', legend_label='precipitation',\n",
        "              y_range_name='precipitation',)\n",
        "\n",
        "### Fifth plot White of Unemployment\n",
        "crime_fig.line('CrimeDate', 'unemployment',\n",
        "              source=crime_cds, view=crimecount_view,\n",
        "              color='white', legend_label='unemployment',\n",
        "              y_range_name='unemployment',)\n",
        "\n",
        "### Sixth plot Blue of Adj_Close\n",
        "crime_fig.line('CrimeDate', 'Adj_Close',\n",
        "              source=crime_cds, view=crimecount_view,\n",
        "              color='mediumblue', legend_label='Adj_Close',\n",
        "              y_range_name='Adj_Close',)\n",
        "\n",
        "# Move the legend to the upper left corner\n",
        "crime_fig.legend.location = 'top_left'\n",
        "crime_fig.legend.orientation = \"horizontal\"\n",
        "crime_fig.legend.border_line_width = 3\n",
        "crime_fig.legend.border_line_color = \"blue\"\n",
        "crime_fig.legend.border_line_alpha = 0.7\n",
        "crime_fig.legend.title_text_font_size = \"14px\"\n",
        "crime_fig.legend.inactive_fill_color = \"cornflowerblue\"\n",
        "crime_fig.legend.inactive_fill_alpha = 0.7\n",
        "crime_fig.legend.background_fill_color = \"silver\"\n",
        "crime_fig.legend.title = \"Click Parameter Labels To Toggle Visibility\"\n",
        "crime_fig.legend.title_text_font_style = \"bold\"\n",
        "\n",
        "crime_fig.title.text_font_size = '18pt'\n",
        "crime_fig.background_fill_color = \"slategray\"\n",
        "\n",
        "# Toggle legend\n",
        "crime_fig.legend.click_policy=\"hide\"\n",
        "\n",
        "# Show the plot\n",
        "show(crime_fig)\n"
      ],
      "execution_count":61,
      "outputs":[
        {
          "data":{
            "text\/html":[
              "<script><\/script>"
            ]
          },
          "metadata":{
            
          },
          "output_type":"display_data"
        }
      ],
      "metadata":{
        
      }
    }
  ],
  "metadata":{
    
  },
  "nbformat":4,
  "nbformat_minor":0
}